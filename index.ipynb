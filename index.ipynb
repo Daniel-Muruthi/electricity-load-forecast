{
 "cells": [
  {
   "cell_type": "markdown",
   "id": "62e74378-24b5-438a-ac4a-078e3ea7c45d",
   "metadata": {},
   "source": [
    "# **ELECTRICITY LOAD FORECAST**\n",
    "\n",
    "## Business Understanding\n",
    "- **Objective**: Forecast next-day household electricity consumption to enable proactive demand management and cost optimization.\n",
    "- **Stakeholders**:  \n",
    "  - **Operations Team**: Schedule generation and load balancing  \n",
    "  - **Finance Team**: Budgeting for peak‐power purchases  \n",
    "  - **Grid Automation Team**: Automated demand response triggers\n",
    "- **Problem Statement**:  \n",
    "  - How can we predict tomorrow’s aggregate power draw with sufficient accuracy to adjust procurement and grid dispatch ahead of time?\n",
    "- **Key Questions**:  \n",
    "  1. What is the expected total consumption for the next day?  \n",
    "  2. How much deviation can we tolerate before incurring penalty costs with our suppliers?\n",
    "\n",
    "## Metric of Success\n",
    "- **Primary Success Metric**:  \n",
    "  - **Mean Absolute Percentage Error (MAPE)** on next-day forecasts  \n",
    "    - Target: MAPE ≤ 10%\n",
    "- **Secondary Metrics**:  \n",
    "  - **Root Mean Square Error (RMSE)**  \n",
    "    - Target: RMSE ≤ 0.15 kW for daily-averaged data  \n",
    "  - **Cost Savings**  \n",
    "    - Reduction in penalty fees or spot‐market purchases (e.g., ≥ 5% per month)  \n",
    "  - **Model Robustness**  \n",
    "    - Consistent performance (MAPE and RMSE) across seasonal peaks and troughs  \n",
    "\n",
    "## **Data Understanding**\n",
    "\n",
    "### **Dataset Overview**\n",
    "\n",
    "- **Source**: UCI Individual Household Electric Power Consumption\n",
    "- **Time Period**: 4 years of measurements (2006-2010)\n",
    "- **Frequency**: 1-minute intervals\n",
    "- **Features**: 9 variables including power measurements and sub-metering data\n",
    "\n",
    "### **Feature Description**\n",
    "\n",
    "- `Global_active_power`: Total active power consumed (kW)\n",
    "- `Global_reactive_power`: Total reactive power consumed (kW)\n",
    "- `Voltage`: Average voltage (V)\n",
    "- `Global_intensity`: Average current intensity (A)\n",
    "- `Sub_metering_1`: Kitchen power consumption (Wh)\n",
    "- `Sub_metering_2`: Laundry room power consumption (Wh)\n",
    "- `Sub_metering_3`: Electric water heater and air conditioner (Wh)"
   ]
  },
  {
   "cell_type": "code",
   "execution_count": null,
   "id": "eb57564f-3b84-4e44-8199-f55aabb8b301",
   "metadata": {},
   "outputs": [],
   "source": [
    "# Imports\n",
    "\n",
    "# Standard library imports\n",
    "import warnings\n",
    "import joblib\n",
    "from pathlib import Path\n",
    "\n",
    "# Third-party imports - Data manipulation\n",
    "import pandas as pd\n",
    "import numpy as np\n",
    "\n",
    "# Third-party imports - Visualization\n",
    "import matplotlib.pyplot as plt\n",
    "import matplotlib.patches as mpatches\n",
    "import seaborn as sns\n",
    "\n",
    "# Configuration\n",
    "warnings.filterwarnings('ignore')\n",
    "plt.style.use('seaborn-v0_8')\n",
    "sns.set_palette(\"Set2\")"
   ]
  },
  {
   "cell_type": "markdown",
   "id": "6e74d41c-fbdb-46aa-9ae2-a0cf50380ec0",
   "metadata": {},
   "source": [
    "## **DATA PREPARATION**"
   ]
  },
  {
   "cell_type": "code",
   "execution_count": null,
   "id": "f56c7d45-71cd-416a-9028-865f230178d4",
   "metadata": {},
   "outputs": [],
   "source": [
    "# Read our Dataset and convert into a DataFrame\n",
    "\n",
    "df = pd.read_csv(\"household_power_consumption.txt\", sep=\";\", low_memory=False).replace(\"?\", np.nan)"
   ]
  },
  {
   "cell_type": "code",
   "execution_count": null,
   "id": "69f71e17-06cb-45c1-adf5-7be52a4cc6d4",
   "metadata": {},
   "outputs": [],
   "source": [
    "# Preview first five rows of the DataFrame\n",
    "\n",
    "df.head()"
   ]
  },
  {
   "cell_type": "code",
   "execution_count": null,
   "id": "aa2726ef-3c8a-4c93-bea7-576b5d96d75e",
   "metadata": {},
   "outputs": [],
   "source": [
    "# Number of Rows and Columns i.e., shape of the DataSet\n",
    "\n",
    "df.shape"
   ]
  },
  {
   "cell_type": "code",
   "execution_count": null,
   "id": "fdca2ad4-b161-4970-b2d1-55f2e66231cb",
   "metadata": {},
   "outputs": [],
   "source": [
    "# Checking out information about my Data\n",
    "\n",
    "df.info()"
   ]
  },
  {
   "cell_type": "code",
   "execution_count": null,
   "id": "6962f367-8ec7-46da-8f26-11fc78822d99",
   "metadata": {},
   "outputs": [],
   "source": [
    "# Checking out columns in my DataFrame\n",
    "\n",
    "df.columns"
   ]
  },
  {
   "cell_type": "code",
   "execution_count": null,
   "id": "16879b7b-93b3-410f-a8da-6708156fc7f8",
   "metadata": {},
   "outputs": [],
   "source": [
    "# Checking for Missing Values\n",
    "\n",
    "df.isna().sum()"
   ]
  },
  {
   "cell_type": "code",
   "execution_count": null,
   "id": "407fed3a-79eb-4731-9aaa-a3414856d37d",
   "metadata": {},
   "outputs": [],
   "source": [
    "# Display missing data percentage per column\n",
    "\n",
    "missing_pct = df.isna().mean() * 100\n",
    "print(\"Missing values (%) per column:\\n\",missing_pct)"
   ]
  },
  {
   "cell_type": "code",
   "execution_count": null,
   "id": "36b95ce1-ab58-47d4-8d4c-93cbd90bb777",
   "metadata": {},
   "outputs": [],
   "source": [
    "# Check out first five rows with missing Data\n",
    "\n",
    "missing_rows = df[df.isna().any(axis=1)]\n",
    "missing_rows.head()"
   ]
  },
  {
   "cell_type": "markdown",
   "id": "97982574-b576-4000-b48d-ec906d2646c1",
   "metadata": {},
   "source": [
    "### **Data Cleaning**"
   ]
  },
  {
   "cell_type": "code",
   "execution_count": null,
   "id": "a3c72b9f-2731-42c9-9d52-44d825e8ecad",
   "metadata": {},
   "outputs": [],
   "source": [
    "def wrangle(df):\n",
    "    \"\"\"\n",
    "    Clean the dataset\n",
    "    \"\"\"\n",
    "    # Create a copy to avoid modifying original\n",
    "    df_clean = df.copy()\n",
    "\n",
    "    # Create datetime column and set it as index to help with plotting\n",
    "    df_clean[\"DateTime\"] = pd.to_datetime(df[\"Date\"] + ' ' + df[\"Time\"], format=\"%d/%m/%Y %H:%M:%S\")\n",
    "    df_clean.set_index(\"DateTime\", inplace=True)\n",
    "\n",
    "    # Drop Original Date and Time columns\n",
    "    df_clean.drop(columns=[\"Date\",\"Time\"], inplace=True)\n",
    "\n",
    "    # Convert Column Data Types from String to Numeric\n",
    "    numeric_columns = [\"Global_active_power\", \"Global_reactive_power\", \n",
    "                       \"Voltage\", \"Global_intensity\", \"Sub_metering_1\",\t\"Sub_metering_2\"]\n",
    "    for col in numeric_columns:\n",
    "        df_clean[col] = pd.to_numeric(df_clean[col], errors=\"coerce\")\n",
    "\n",
    "    # Handle Missing Values\n",
    "    df_clean = df_clean.dropna()\n",
    "\n",
    "\n",
    "    return df_clean"
   ]
  },
  {
   "cell_type": "code",
   "execution_count": null,
   "id": "d7b1a1be-207e-46f1-9f6f-fec41889e90b",
   "metadata": {},
   "outputs": [],
   "source": [
    "# Wrangle Data\n",
    "\n",
    "df = wrangle(df)"
   ]
  },
  {
   "cell_type": "code",
   "execution_count": null,
   "id": "1bd91789-5bc0-4d1d-a80b-b4f79ed98bbf",
   "metadata": {},
   "outputs": [],
   "source": [
    "# Checking info of Cleaned DataSet\n",
    "\n",
    "df.info()"
   ]
  },
  {
   "cell_type": "code",
   "execution_count": null,
   "id": "367dc06a-f038-4a65-b2db-c5b70493bad2",
   "metadata": {},
   "outputs": [],
   "source": [
    "df.head()"
   ]
  },
  {
   "cell_type": "markdown",
   "id": "8c652dbb-b2e1-4fbf-9c9f-617dc7eeeb94",
   "metadata": {},
   "source": [
    "## **EXPLORATORY DATA ANALYSIS**"
   ]
  },
  {
   "cell_type": "code",
   "execution_count": null,
   "id": "2b0f717f-e601-4f23-a79f-01da7c963ca7",
   "metadata": {},
   "outputs": [],
   "source": [
    "# Basic Statistics\n",
    "\n",
    "df.describe()"
   ]
  },
  {
   "cell_type": "markdown",
   "id": "499b2c92-24ce-4bf7-93cb-416f103ea3f8",
   "metadata": {},
   "source": [
    "#### Global Active Power Over Time"
   ]
  },
  {
   "cell_type": "code",
   "execution_count": null,
   "id": "5996ce8c-dfed-43b5-998b-aba402d580a2",
   "metadata": {
    "scrolled": true
   },
   "outputs": [],
   "source": [
    "plt.figure(figsize=(12, 6))\n",
    "plt.plot(df.index, df[\"Global_active_power\"], linewidth=2.5, color='green')\n",
    "plt.title('Global Active Power Over Time', fontsize=16, fontweight='bold', pad=20)\n",
    "plt.xlabel('Time', fontsize=12)\n",
    "plt.ylabel('Power (kW)', fontsize=12)\n",
    "plt.tight_layout()\n",
    "plt.show();"
   ]
  },
  {
   "cell_type": "markdown",
   "id": "834c1d4f-26da-4aa0-9a75-7b379f1bc00c",
   "metadata": {},
   "source": [
    "#### **Average Power Consumption by Month**"
   ]
  },
  {
   "cell_type": "code",
   "execution_count": null,
   "id": "55d77e94-5c8a-4f89-8695-d86a4a02ec4b",
   "metadata": {},
   "outputs": [],
   "source": [
    "# Resample to monthly averages\n",
    "monthly = df['Global_active_power'].resample('M').mean()\n",
    "\n",
    "plt.figure(figsize=(12, 6))\n",
    "plt.plot(monthly.index, monthly.values, linewidth=2.5, color='green')\n",
    "plt.title('Average Power Consumption by Month', fontsize=16, fontweight='bold', pad=20)\n",
    "plt.xlabel('Time', fontsize=12)\n",
    "plt.ylabel('Monthly Avg Power (kW)', fontsize=12)\n",
    "plt.tight_layout()\n",
    "plt.show();"
   ]
  },
  {
   "cell_type": "markdown",
   "id": "e7bd6de6-1edd-4e25-b918-834f6252ecb3",
   "metadata": {},
   "source": [
    "#### **Average Power Consumption by Week**"
   ]
  },
  {
   "cell_type": "code",
   "execution_count": null,
   "id": "59ddcd98-54da-4c04-a59c-78254eb806ce",
   "metadata": {},
   "outputs": [],
   "source": [
    "# Resample to weekly averages\n",
    "weekly = df['Global_active_power'].resample('W').mean()\n",
    "\n",
    "plt.figure(figsize=(12, 6))\n",
    "plt.plot(weekly.index, weekly.values, linewidth=2.5, color='green')\n",
    "plt.title('Average Power Consumption by Week', fontsize=16, fontweight='bold', pad=20)\n",
    "plt.xlabel('Time', fontsize=12)\n",
    "plt.ylabel('Weekly Avg Power (kW)', fontsize=12)\n",
    "plt.tight_layout()\n",
    "plt.show();"
   ]
  },
  {
   "cell_type": "markdown",
   "id": "6fd5f178-4388-4cee-b40d-8e1c0896c94f",
   "metadata": {},
   "source": [
    "#### **Average Power Consumption by Date**"
   ]
  },
  {
   "cell_type": "code",
   "execution_count": null,
   "id": "fb4a2d05-00a6-4732-baaa-49f0ef4cb5f3",
   "metadata": {},
   "outputs": [],
   "source": [
    "# Resample to daily averages\n",
    "daily = df['Global_active_power'].resample('D').mean()\n",
    "\n",
    "plt.figure(figsize=(12, 6))\n",
    "plt.plot(daily.index, daily.values, linewidth=2.5, color='green')\n",
    "plt.title('Global Active Power Over Time', fontsize=16, fontweight='bold', pad=20)\n",
    "plt.xlabel('Time', fontsize=12)\n",
    "plt.ylabel('Daily Avg Power (kW)', fontsize=12)\n",
    "plt.tight_layout()\n",
    "plt.show();"
   ]
  },
  {
   "cell_type": "code",
   "execution_count": null,
   "id": "f167e6f4-811f-4a5e-bf3d-9bc910222485",
   "metadata": {},
   "outputs": [],
   "source": []
  }
 ],
 "metadata": {
  "kernelspec": {
   "display_name": "Python (learn-env)",
   "language": "python",
   "name": "learn-env"
  },
  "language_info": {
   "codemirror_mode": {
    "name": "ipython",
    "version": 3
   },
   "file_extension": ".py",
   "mimetype": "text/x-python",
   "name": "python",
   "nbconvert_exporter": "python",
   "pygments_lexer": "ipython3",
   "version": "3.10.13"
  }
 },
 "nbformat": 4,
 "nbformat_minor": 5
}
